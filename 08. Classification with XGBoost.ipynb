{
 "metadata": {
  "language_info": {
   "codemirror_mode": {
    "name": "ipython",
    "version": 3
   },
   "file_extension": ".py",
   "mimetype": "text/x-python",
   "name": "python",
   "nbconvert_exporter": "python",
   "pygments_lexer": "ipython3",
   "version": "3.8.3-final"
  },
  "orig_nbformat": 2,
  "kernelspec": {
   "name": "python3",
   "display_name": "Python 3"
  }
 },
 "nbformat": 4,
 "nbformat_minor": 2,
 "cells": [
  {
   "source": [
    "# XGBoost\n",
    "- Optimized gradient-boosting machine learning library\n",
    "- Speed and performance\n",
    "- Core algorithm is parallelizable\n",
    "\n",
    "\n",
    "## When to use XGBoost\n",
    "- Have large number of training samples with less features\n",
    "- Mixture of categorical and numeric features\n",
    "\n",
    "## When to not use XGBoost\n",
    "- Image recognition\n",
    "- Computer vision\n",
    "- NLP\n",
    "- Small number of training samples"
   ],
   "cell_type": "markdown",
   "metadata": {}
  },
  {
   "cell_type": "code",
   "execution_count": 1,
   "metadata": {},
   "outputs": [],
   "source": [
    "# import library\n",
    "import pandas as pd\n",
    "import numpy as np\n",
    "import matplotlib.pyplot as plt\n",
    "import seaborn as sns"
   ]
  },
  {
   "source": [
    "## Data Preparation (Breast Cancer)"
   ],
   "cell_type": "markdown",
   "metadata": {}
  },
  {
   "cell_type": "code",
   "execution_count": 5,
   "metadata": {},
   "outputs": [],
   "source": [
    "import sklearn.datasets\n",
    "\n",
    "breast_cancer = sklearn.datasets.load_breast_cancer()\n",
    "\n",
    "X, y = breast_cancer.data, breast_cancer.target\n",
    "\n",
    "from sklearn.model_selection import train_test_split\n",
    "X_train, X_test, y_train, y_test = train_test_split(X, y, test_size=0.3,  random_state = 123)"
   ]
  },
  {
   "source": [
    "## Import and using XGBoost Classifier"
   ],
   "cell_type": "markdown",
   "metadata": {}
  },
  {
   "cell_type": "code",
   "execution_count": 6,
   "metadata": {},
   "outputs": [
    {
     "output_type": "execute_result",
     "data": {
      "text/plain": [
       "0.9707602339181286"
      ]
     },
     "metadata": {},
     "execution_count": 6
    }
   ],
   "source": [
    "import xgboost as xgb\n",
    "\n",
    "# initialize model\n",
    "xgb_clf = xgb.XGBClassifier(objective='binary:logistic', n_estimators=10, seed=123)\n",
    "\n",
    "# fit data\n",
    "xgb_clf.fit(X_train, y_train)\n",
    "\n",
    "# score\n",
    "xgb_clf.score(X_test, y_test)"
   ]
  },
  {
   "source": [
    "# Classification using CART (Classification and Regression Trees) model with XGBoost"
   ],
   "cell_type": "markdown",
   "metadata": {}
  },
  {
   "source": [
    "## Basic Decision Tree without boost"
   ],
   "cell_type": "markdown",
   "metadata": {}
  },
  {
   "cell_type": "code",
   "execution_count": 7,
   "metadata": {},
   "outputs": [
    {
     "output_type": "execute_result",
     "data": {
      "text/plain": [
       "0.9590643274853801"
      ]
     },
     "metadata": {},
     "execution_count": 7
    }
   ],
   "source": [
    "# import library\n",
    "from sklearn.tree import DecisionTreeClassifier\n",
    "\n",
    "# initialize model\n",
    "dt = DecisionTreeClassifier(max_depth=4)\n",
    "\n",
    "# fit using same data (breast cancer)\n",
    "dt.fit(X_train, y_train)\n",
    "\n",
    "# score\n",
    "dt.score(X_test, y_test)"
   ]
  },
  {
   "source": [
    "## Boosting\n",
    "- Boosting can be applied to a machine learning model\n",
    "- Boosting can converts a collection of week learners into a strong learners\n",
    "- Strong learners = good performance\n",
    "\n",
    "## Boosting with Cross Validation"
   ],
   "cell_type": "markdown",
   "metadata": {}
  },
  {
   "cell_type": "code",
   "execution_count": 9,
   "metadata": {},
   "outputs": [
    {
     "output_type": "execute_result",
     "data": {
      "text/plain": [
       "   train-error-mean  train-error-std  test-error-mean  test-error-std\n",
       "0          0.025480         0.002451         0.066824        0.019564\n",
       "1          0.021969         0.001257         0.061524        0.013876\n",
       "2          0.014945         0.006589         0.056252        0.010004\n",
       "3          0.012306         0.003300         0.052734        0.011418\n",
       "4          0.010549         0.004314         0.054497        0.012485"
      ],
      "text/html": "<div>\n<style scoped>\n    .dataframe tbody tr th:only-of-type {\n        vertical-align: middle;\n    }\n\n    .dataframe tbody tr th {\n        vertical-align: top;\n    }\n\n    .dataframe thead th {\n        text-align: right;\n    }\n</style>\n<table border=\"1\" class=\"dataframe\">\n  <thead>\n    <tr style=\"text-align: right;\">\n      <th></th>\n      <th>train-error-mean</th>\n      <th>train-error-std</th>\n      <th>test-error-mean</th>\n      <th>test-error-std</th>\n    </tr>\n  </thead>\n  <tbody>\n    <tr>\n      <th>0</th>\n      <td>0.025480</td>\n      <td>0.002451</td>\n      <td>0.066824</td>\n      <td>0.019564</td>\n    </tr>\n    <tr>\n      <th>1</th>\n      <td>0.021969</td>\n      <td>0.001257</td>\n      <td>0.061524</td>\n      <td>0.013876</td>\n    </tr>\n    <tr>\n      <th>2</th>\n      <td>0.014945</td>\n      <td>0.006589</td>\n      <td>0.056252</td>\n      <td>0.010004</td>\n    </tr>\n    <tr>\n      <th>3</th>\n      <td>0.012306</td>\n      <td>0.003300</td>\n      <td>0.052734</td>\n      <td>0.011418</td>\n    </tr>\n    <tr>\n      <th>4</th>\n      <td>0.010549</td>\n      <td>0.004314</td>\n      <td>0.054497</td>\n      <td>0.012485</td>\n    </tr>\n  </tbody>\n</table>\n</div>"
     },
     "metadata": {},
     "execution_count": 9
    }
   ],
   "source": [
    "# Create a DMatrix object\n",
    "dmatrix = xgb.DMatrix(data=X, label=y)\n",
    "\n",
    "# Create parameters as a dict\n",
    "params = {\"objective\":\"reg:logistic\", \"max_depth\":3}\n",
    "\n",
    "# Create XGB CV object\n",
    "result = xgb.cv(dtrain=dmatrix, params=params, nfold=3, num_boost_round=5, metrics='error', as_pandas=True, seed=123)\n",
    "\n",
    "# display results\n",
    "result"
   ]
  },
  {
   "source": [
    "## Measuring AUC"
   ],
   "cell_type": "markdown",
   "metadata": {}
  },
  {
   "cell_type": "code",
   "execution_count": 13,
   "metadata": {},
   "outputs": [
    {
     "output_type": "execute_result",
     "data": {
      "text/plain": [
       "   train-auc-mean  train-auc-std  test-auc-mean  test-auc-std\n",
       "0        0.987225       0.001301       0.961473      0.024760\n",
       "1        0.993244       0.004295       0.969078      0.022616\n",
       "2        0.995224       0.003751       0.972491      0.024377\n",
       "3        0.997125       0.002042       0.971354      0.025405\n",
       "4        0.997610       0.001871       0.974002      0.026527"
      ],
      "text/html": "<div>\n<style scoped>\n    .dataframe tbody tr th:only-of-type {\n        vertical-align: middle;\n    }\n\n    .dataframe tbody tr th {\n        vertical-align: top;\n    }\n\n    .dataframe thead th {\n        text-align: right;\n    }\n</style>\n<table border=\"1\" class=\"dataframe\">\n  <thead>\n    <tr style=\"text-align: right;\">\n      <th></th>\n      <th>train-auc-mean</th>\n      <th>train-auc-std</th>\n      <th>test-auc-mean</th>\n      <th>test-auc-std</th>\n    </tr>\n  </thead>\n  <tbody>\n    <tr>\n      <th>0</th>\n      <td>0.987225</td>\n      <td>0.001301</td>\n      <td>0.961473</td>\n      <td>0.024760</td>\n    </tr>\n    <tr>\n      <th>1</th>\n      <td>0.993244</td>\n      <td>0.004295</td>\n      <td>0.969078</td>\n      <td>0.022616</td>\n    </tr>\n    <tr>\n      <th>2</th>\n      <td>0.995224</td>\n      <td>0.003751</td>\n      <td>0.972491</td>\n      <td>0.024377</td>\n    </tr>\n    <tr>\n      <th>3</th>\n      <td>0.997125</td>\n      <td>0.002042</td>\n      <td>0.971354</td>\n      <td>0.025405</td>\n    </tr>\n    <tr>\n      <th>4</th>\n      <td>0.997610</td>\n      <td>0.001871</td>\n      <td>0.974002</td>\n      <td>0.026527</td>\n    </tr>\n  </tbody>\n</table>\n</div>"
     },
     "metadata": {},
     "execution_count": 13
    }
   ],
   "source": [
    "# Create XGB CV object\n",
    "result_auc = xgb.cv(dtrain=dmatrix, params=params, nfold=3, num_boost_round=5, metrics='auc', as_pandas=True, seed=123)\n",
    "\n",
    "# display results\n",
    "result_auc"
   ]
  },
  {
   "source": [
    "# Fine-tuning Model with Hyperparameters"
   ],
   "cell_type": "markdown",
   "metadata": {}
  },
  {
   "cell_type": "code",
   "execution_count": 17,
   "metadata": {},
   "outputs": [
    {
     "output_type": "stream",
     "name": "stdout",
     "text": [
      "Best Parameter: {'max_depth': 5}\nBest Score: 0.9723484848484849\n"
     ]
    }
   ],
   "source": [
    "# import library\n",
    "from sklearn.model_selection import GridSearchCV\n",
    "from sklearn.model_selection import RandomizedSearchCV\n",
    "\n",
    "# create hyperparameters dict\n",
    "grid_params = {\n",
    "    'max_depth': [1, 3, 5, 10]\n",
    "}\n",
    "\n",
    "xgb_clf = xgb.XGBClassifier()\n",
    "\n",
    "grid_clf = GridSearchCV(estimator=xgb_clf, param_grid=grid_params, cv=4)\n",
    "\n",
    "grid_clf.fit(X_train, y_train)\n",
    "\n",
    "# Print the optimal parameters and best score\n",
    "print(\"Best Parameter: {}\".format(grid_clf.best_params_))\n",
    "print(\"Best Score: {}\".format(grid_clf.best_score_))"
   ]
  },
  {
   "source": [
    "# Pipeline"
   ],
   "cell_type": "markdown",
   "metadata": {}
  },
  {
   "cell_type": "code",
   "execution_count": 18,
   "metadata": {},
   "outputs": [],
   "source": [
    "# import library\n",
    "from sklearn.preprocessing import StandardScaler\n",
    "from sklearn.pipeline import Pipeline\n",
    "from sklearn.model_selection import cross_val_score"
   ]
  },
  {
   "cell_type": "code",
   "execution_count": 20,
   "metadata": {},
   "outputs": [],
   "source": [
    "X, y = breast_cancer.data, breast_cancer.target\n",
    "\n",
    "X_train, X_test, y_train, y_test = train_test_split(X, y, test_size=0.2,  random_state = 123)"
   ]
  },
  {
   "cell_type": "code",
   "execution_count": 22,
   "metadata": {},
   "outputs": [
    {
     "output_type": "stream",
     "name": "stdout",
     "text": [
      "Best Parameter: {'xgb_model__learning_rate': 0.1, 'xgb_model__max_depth': 5, 'xgb_model__n_estimators': 150, 'xgb_model__subsample': 0.5}\nBest Score: 0.9948435163539099\n"
     ]
    }
   ],
   "source": [
    "# Create pipeline object\n",
    "steps = [('scaler', StandardScaler()), ('xgb_model',xgb.XGBClassifier())]\n",
    "\n",
    "clf_pipline = Pipeline(steps)\n",
    "\n",
    "# create hyperparameters dict\n",
    "grid_params = {\n",
    "    'xgb_model__max_depth': [1, 3, 5, 10],\n",
    "    'xgb_model__learning_rate':[0.01, 0.1, 0.5, 0.9],\n",
    "    'xgb_model__subsample': [0.3, 0.5, 0.9],\n",
    "    'xgb_model__n_estimators': np.arange(50, 200, 50)\n",
    "}\n",
    "\n",
    "# Create pipeline object\n",
    "pipeline_cv = GridSearchCV(estimator=clf_pipline, param_grid=grid_params, cv=5, scoring='roc_auc')\n",
    "\n",
    "pipeline_cv.fit(X_train, y_train)\n",
    "\n",
    "# Print the optimal parameters and best score\n",
    "print(\"Best Parameter: {}\".format(pipeline_cv.best_params_))\n",
    "print(\"Best Score: {}\".format(pipeline_cv.best_score_))"
   ]
  },
  {
   "cell_type": "code",
   "execution_count": 23,
   "metadata": {},
   "outputs": [],
   "source": [
    "# BEST SCORE : 99.484351 %"
   ]
  },
  {
   "cell_type": "code",
   "execution_count": null,
   "metadata": {},
   "outputs": [],
   "source": []
  }
 ]
}