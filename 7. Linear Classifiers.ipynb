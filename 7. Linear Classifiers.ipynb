{
 "metadata": {
  "language_info": {
   "codemirror_mode": {
    "name": "ipython",
    "version": 3
   },
   "file_extension": ".py",
   "mimetype": "text/x-python",
   "name": "python",
   "nbconvert_exporter": "python",
   "pygments_lexer": "ipython3",
   "version": "3.8.6-final"
  },
  "orig_nbformat": 2,
  "kernelspec": {
   "name": "python3",
   "display_name": "Python 3"
  }
 },
 "nbformat": 4,
 "nbformat_minor": 2,
 "cells": [
  {
   "source": [
    "# Linear Classifiers in Python"
   ],
   "cell_type": "markdown",
   "metadata": {}
  },
  {
   "cell_type": "code",
   "execution_count": 1,
   "metadata": {},
   "outputs": [],
   "source": [
    "# import library\n",
    "import pandas as pd\n",
    "import numpy as np\n",
    "import matplotlib.pyplot as plt\n",
    "import seaborn as sns"
   ]
  },
  {
   "source": [
    "## Using Logistic Regression with default parameters using Wine Dataset"
   ],
   "cell_type": "markdown",
   "metadata": {}
  },
  {
   "cell_type": "code",
   "execution_count": 2,
   "metadata": {},
   "outputs": [],
   "source": [
    "# import wine datasets \n",
    "import sklearn.datasets\n",
    "\n",
    "wine = sklearn.datasets.load_wine()\n",
    "\n",
    "# seperate data and label\n",
    "X, y = wine.data, wine.target"
   ]
  },
  {
   "cell_type": "code",
   "execution_count": 3,
   "metadata": {},
   "outputs": [],
   "source": [
    "# import train_test_split\n",
    "from sklearn.model_selection import train_test_split\n",
    "\n",
    "X_train, X_test, y_train, y_test = train_test_split(X, y, test_size=0.3,  random_state = 42)"
   ]
  },
  {
   "cell_type": "code",
   "execution_count": 4,
   "metadata": {},
   "outputs": [],
   "source": [
    "# import Logistic Regression\n",
    "from sklearn.linear_model import LogisticRegression\n",
    "\n",
    "# initialize LogReg\n",
    "lr = LogisticRegression()"
   ]
  },
  {
   "cell_type": "code",
   "execution_count": 5,
   "metadata": {},
   "outputs": [
    {
     "output_type": "execute_result",
     "data": {
      "text/plain": [
       "0.9814814814814815"
      ]
     },
     "metadata": {},
     "execution_count": 5
    }
   ],
   "source": [
    "# fit data\n",
    "lr.fit(X_train, y_train)\n",
    "\n",
    "# prediction\n",
    "y_pred = lr.predict(X_test)\n",
    "\n",
    "# score\n",
    "lr.score(X_test, y_test)"
   ]
  },
  {
   "source": [
    "## Using LinearSVC with default parameters Using Digits Dataset"
   ],
   "cell_type": "markdown",
   "metadata": {}
  },
  {
   "cell_type": "code",
   "execution_count": 6,
   "metadata": {},
   "outputs": [],
   "source": [
    "digits = sklearn.datasets.load_digits()\n",
    "\n",
    "X, y = digits.data, digits.target\n",
    "\n",
    "X_train, X_test, y_train, y_test = train_test_split(X, y, test_size=0.3,  random_state = 42)"
   ]
  },
  {
   "cell_type": "code",
   "execution_count": 7,
   "metadata": {},
   "outputs": [],
   "source": [
    "# import LinearSVC\n",
    "from sklearn.svm import LinearSVC\n",
    "\n",
    "# initialize LinearSVC\n",
    "lin_svc = LinearSVC()"
   ]
  },
  {
   "cell_type": "code",
   "execution_count": 8,
   "metadata": {},
   "outputs": [
    {
     "output_type": "execute_result",
     "data": {
      "text/plain": [
       "0.9333333333333333"
      ]
     },
     "metadata": {},
     "execution_count": 8
    }
   ],
   "source": [
    "# fit data\n",
    "lin_svc.fit(X_train, y_train)\n",
    "\n",
    "# prediction\n",
    "y_pred = lin_svc.predict(X_test)\n",
    "\n",
    "# score\n",
    "lin_svc.score(X_test, y_test)"
   ]
  },
  {
   "source": [
    "## Breast Cancer Datasets"
   ],
   "cell_type": "markdown",
   "metadata": {}
  },
  {
   "cell_type": "code",
   "execution_count": 19,
   "metadata": {},
   "outputs": [],
   "source": [
    "breast_cancer = sklearn.datasets.load_breast_cancer()\n",
    "\n",
    "X, y = breast_cancer.data, breast_cancer.target\n",
    "\n",
    "X_train, X_test, y_train, y_test = train_test_split(X, y, test_size=0.2,  random_state = 123)"
   ]
  },
  {
   "cell_type": "code",
   "execution_count": 20,
   "metadata": {},
   "outputs": [
    {
     "output_type": "execute_result",
     "data": {
      "text/plain": [
       "0.9473684210526315"
      ]
     },
     "metadata": {},
     "execution_count": 20
    }
   ],
   "source": [
    "# fit data\n",
    "lin_svc.fit(X_train, y_train)\n",
    "\n",
    "# prediction\n",
    "y_pred = lin_svc.predict(X_test)\n",
    "\n",
    "# score\n",
    "lin_svc.score(X_test, y_test)"
   ]
  },
  {
   "source": [
    "# Multi Class Logistic regression"
   ],
   "cell_type": "markdown",
   "metadata": {}
  },
  {
   "cell_type": "code",
   "execution_count": 11,
   "metadata": {},
   "outputs": [],
   "source": [
    "# fish datasets\n",
    "fish = pd.read_csv('data/csv/fish.csv', header=None)\n",
    "fish.columns = ['Species', 1, 2, 3, 4, 5, 6]"
   ]
  },
  {
   "cell_type": "code",
   "execution_count": 12,
   "metadata": {},
   "outputs": [],
   "source": [
    "X = fish.drop(columns= 'Species')\n",
    "y = fish['Species']"
   ]
  },
  {
   "cell_type": "code",
   "execution_count": 13,
   "metadata": {},
   "outputs": [],
   "source": [
    "X_train, X_test, y_train, y_test = train_test_split(X, y, test_size=0.3,  random_state = 42)"
   ]
  },
  {
   "cell_type": "code",
   "execution_count": 14,
   "metadata": {},
   "outputs": [
    {
     "output_type": "execute_result",
     "data": {
      "text/plain": [
       "(4, 6)"
      ]
     },
     "metadata": {},
     "execution_count": 14
    }
   ],
   "source": [
    "lr_ovr = LogisticRegression()\n",
    "lr_ovr.fit(X_train, y_train)\n",
    "\n",
    "lr_ovr.coef_.shape"
   ]
  },
  {
   "cell_type": "code",
   "execution_count": 15,
   "metadata": {},
   "outputs": [
    {
     "output_type": "execute_result",
     "data": {
      "text/plain": [
       "(4,)"
      ]
     },
     "metadata": {},
     "execution_count": 15
    }
   ],
   "source": [
    "lr_ovr.intercept_.shape"
   ]
  },
  {
   "cell_type": "code",
   "execution_count": 16,
   "metadata": {},
   "outputs": [
    {
     "output_type": "stream",
     "name": "stdout",
     "text": [
      "1.0\n"
     ]
    },
    {
     "output_type": "execute_result",
     "data": {
      "text/plain": [
       "0.9615384615384616"
      ]
     },
     "metadata": {},
     "execution_count": 16
    }
   ],
   "source": [
    "# train accuracy\n",
    "print(lr_ovr.score(X_train, y_train))\n",
    "\n",
    "# test accuracy\n",
    "lr_ovr.score(X_test, y_test)"
   ]
  },
  {
   "source": [
    "## Support Vector Machine"
   ],
   "cell_type": "markdown",
   "metadata": {}
  },
  {
   "cell_type": "code",
   "execution_count": 17,
   "metadata": {},
   "outputs": [
    {
     "output_type": "execute_result",
     "data": {
      "text/plain": [
       "SVC(kernel='linear')"
      ]
     },
     "metadata": {},
     "execution_count": 17
    }
   ],
   "source": [
    "from sklearn.svm import SVC\n",
    "svm = SVC(kernel='linear')\n",
    "\n",
    "svm.fit(X_train, y_train)"
   ]
  },
  {
   "cell_type": "code",
   "execution_count": 18,
   "metadata": {},
   "outputs": [
    {
     "output_type": "stream",
     "name": "stdout",
     "text": [
      "85\n8\n"
     ]
    }
   ],
   "source": [
    "print(len(X))\n",
    "print(len(svm.support_))"
   ]
  },
  {
   "source": [
    "## Logistic Regression\n",
    "- is a linear classifier\n",
    "- can use with kernels but slow\n",
    "- meaningful probabilities\n",
    "- can be extended to multiclass\n",
    "- All data points affect fit\n",
    "- linear_model.LogisticRegression\n",
    "- parameter : C (inverse regularization strength), penalty (type regularization), multi_class (type multi_class)\n",
    "\n",
    "## Support Vector Machine\n",
    "- is a linear classifier\n",
    "- can use kernels and fast\n",
    "- can be extended to multiclass\n",
    "- only 'support Vector' affect fit\n",
    "- svm.LinearSVC or svm.SVC\n",
    "- parameter : C (inverse regularization strength), kernel (type of kernel), gamma (inverse RBF smoothness)\n",
    "\n",
    "## SGDClassifier\n",
    "- scales well to large datasets (very fast)\n",
    "- linear_model.SGDClassifier\n",
    "- logreg = SGDClassifier(loss='log'), linsvm = SGDClassifier(loss='hinge')\n",
    "- parameter = alpha (1/C)"
   ],
   "cell_type": "markdown",
   "metadata": {}
  },
  {
   "cell_type": "code",
   "execution_count": null,
   "metadata": {},
   "outputs": [],
   "source": []
  }
 ]
}