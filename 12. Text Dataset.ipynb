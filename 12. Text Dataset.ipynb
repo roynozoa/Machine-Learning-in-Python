{
 "metadata": {
  "language_info": {
   "codemirror_mode": {
    "name": "ipython",
    "version": 3
   },
   "file_extension": ".py",
   "mimetype": "text/x-python",
   "name": "python",
   "nbconvert_exporter": "python",
   "pygments_lexer": "ipython3",
   "version": "3.8.6-final"
  },
  "orig_nbformat": 2,
  "kernelspec": {
   "name": "python3",
   "display_name": "Python 3"
  }
 },
 "nbformat": 4,
 "nbformat_minor": 2,
 "cells": [
  {
   "source": [
    "# Dealing and Processing Text Dataset\n",
    "Data : US President Inagural Speech"
   ],
   "cell_type": "markdown",
   "metadata": {}
  },
  {
   "cell_type": "code",
   "execution_count": 1,
   "metadata": {},
   "outputs": [],
   "source": [
    "# import library\n",
    "import pandas as pd\n",
    "import numpy as np\n",
    "import matplotlib.pyplot as plt\n",
    "import seaborn as sns"
   ]
  },
  {
   "cell_type": "code",
   "execution_count": 2,
   "metadata": {},
   "outputs": [
    {
     "output_type": "execute_result",
     "data": {
      "text/plain": [
       "                Name         Inaugural Address                      Date  \\\n",
       "0  George Washington   First Inaugural Address  Thursday, April 30, 1789   \n",
       "1  George Washington  Second Inaugural Address     Monday, March 4, 1793   \n",
       "2         John Adams         Inaugural Address   Saturday, March 4, 1797   \n",
       "3   Thomas Jefferson   First Inaugural Address  Wednesday, March 4, 1801   \n",
       "4   Thomas Jefferson  Second Inaugural Address     Monday, March 4, 1805   \n",
       "\n",
       "                                                text  \n",
       "0  Fellow-Citizens of the Senate and of the House...  \n",
       "1  Fellow Citizens:  I AM again called upon by th...  \n",
       "2  WHEN it was first perceived, in early times, t...  \n",
       "3  Friends and Fellow-Citizens:  CALLED upon to u...  \n",
       "4  PROCEEDING, fellow-citizens, to that qualifica...  "
      ],
      "text/html": "<div>\n<style scoped>\n    .dataframe tbody tr th:only-of-type {\n        vertical-align: middle;\n    }\n\n    .dataframe tbody tr th {\n        vertical-align: top;\n    }\n\n    .dataframe thead th {\n        text-align: right;\n    }\n</style>\n<table border=\"1\" class=\"dataframe\">\n  <thead>\n    <tr style=\"text-align: right;\">\n      <th></th>\n      <th>Name</th>\n      <th>Inaugural Address</th>\n      <th>Date</th>\n      <th>text</th>\n    </tr>\n  </thead>\n  <tbody>\n    <tr>\n      <th>0</th>\n      <td>George Washington</td>\n      <td>First Inaugural Address</td>\n      <td>Thursday, April 30, 1789</td>\n      <td>Fellow-Citizens of the Senate and of the House...</td>\n    </tr>\n    <tr>\n      <th>1</th>\n      <td>George Washington</td>\n      <td>Second Inaugural Address</td>\n      <td>Monday, March 4, 1793</td>\n      <td>Fellow Citizens:  I AM again called upon by th...</td>\n    </tr>\n    <tr>\n      <th>2</th>\n      <td>John Adams</td>\n      <td>Inaugural Address</td>\n      <td>Saturday, March 4, 1797</td>\n      <td>WHEN it was first perceived, in early times, t...</td>\n    </tr>\n    <tr>\n      <th>3</th>\n      <td>Thomas Jefferson</td>\n      <td>First Inaugural Address</td>\n      <td>Wednesday, March 4, 1801</td>\n      <td>Friends and Fellow-Citizens:  CALLED upon to u...</td>\n    </tr>\n    <tr>\n      <th>4</th>\n      <td>Thomas Jefferson</td>\n      <td>Second Inaugural Address</td>\n      <td>Monday, March 4, 1805</td>\n      <td>PROCEEDING, fellow-citizens, to that qualifica...</td>\n    </tr>\n  </tbody>\n</table>\n</div>"
     },
     "metadata": {},
     "execution_count": 2
    }
   ],
   "source": [
    "path = 'data/inaugural_speeches.csv'\n",
    "\n",
    "speech_df = pd.read_csv(path)\n",
    "speech_df.head()"
   ]
  },
  {
   "cell_type": "code",
   "execution_count": 3,
   "metadata": {},
   "outputs": [
    {
     "output_type": "execute_result",
     "data": {
      "text/plain": [
       "                Name         Inaugural Address                      Date  \\\n",
       "0  George Washington   First Inaugural Address  Thursday, April 30, 1789   \n",
       "1  George Washington  Second Inaugural Address     Monday, March 4, 1793   \n",
       "2         John Adams         Inaugural Address   Saturday, March 4, 1797   \n",
       "3   Thomas Jefferson   First Inaugural Address  Wednesday, March 4, 1801   \n",
       "4   Thomas Jefferson  Second Inaugural Address     Monday, March 4, 1805   \n",
       "\n",
       "                                                text  \n",
       "0  Fellow Citizens of the Senate and of the House...  \n",
       "1  Fellow Citizens   I AM again called upon by th...  \n",
       "2  WHEN it was first perceived  in early times  t...  \n",
       "3  Friends and Fellow Citizens   CALLED upon to u...  \n",
       "4  PROCEEDING  fellow citizens  to that qualifica...  "
      ],
      "text/html": "<div>\n<style scoped>\n    .dataframe tbody tr th:only-of-type {\n        vertical-align: middle;\n    }\n\n    .dataframe tbody tr th {\n        vertical-align: top;\n    }\n\n    .dataframe thead th {\n        text-align: right;\n    }\n</style>\n<table border=\"1\" class=\"dataframe\">\n  <thead>\n    <tr style=\"text-align: right;\">\n      <th></th>\n      <th>Name</th>\n      <th>Inaugural Address</th>\n      <th>Date</th>\n      <th>text</th>\n    </tr>\n  </thead>\n  <tbody>\n    <tr>\n      <th>0</th>\n      <td>George Washington</td>\n      <td>First Inaugural Address</td>\n      <td>Thursday, April 30, 1789</td>\n      <td>Fellow Citizens of the Senate and of the House...</td>\n    </tr>\n    <tr>\n      <th>1</th>\n      <td>George Washington</td>\n      <td>Second Inaugural Address</td>\n      <td>Monday, March 4, 1793</td>\n      <td>Fellow Citizens   I AM again called upon by th...</td>\n    </tr>\n    <tr>\n      <th>2</th>\n      <td>John Adams</td>\n      <td>Inaugural Address</td>\n      <td>Saturday, March 4, 1797</td>\n      <td>WHEN it was first perceived  in early times  t...</td>\n    </tr>\n    <tr>\n      <th>3</th>\n      <td>Thomas Jefferson</td>\n      <td>First Inaugural Address</td>\n      <td>Wednesday, March 4, 1801</td>\n      <td>Friends and Fellow Citizens   CALLED upon to u...</td>\n    </tr>\n    <tr>\n      <th>4</th>\n      <td>Thomas Jefferson</td>\n      <td>Second Inaugural Address</td>\n      <td>Monday, March 4, 1805</td>\n      <td>PROCEEDING  fellow citizens  to that qualifica...</td>\n    </tr>\n  </tbody>\n</table>\n</div>"
     },
     "metadata": {},
     "execution_count": 3
    }
   ],
   "source": [
    "# Removing unwanted characters\n",
    "speech_df['text'] = speech_df['text'].str.replace('[^a-zA-Z]',' ')\n",
    "speech_df.head()"
   ]
  },
  {
   "cell_type": "code",
   "execution_count": 4,
   "metadata": {},
   "outputs": [
    {
     "output_type": "execute_result",
     "data": {
      "text/plain": [
       "                Name         Inaugural Address                      Date  \\\n",
       "0  George Washington   First Inaugural Address  Thursday, April 30, 1789   \n",
       "1  George Washington  Second Inaugural Address     Monday, March 4, 1793   \n",
       "2         John Adams         Inaugural Address   Saturday, March 4, 1797   \n",
       "3   Thomas Jefferson   First Inaugural Address  Wednesday, March 4, 1801   \n",
       "4   Thomas Jefferson  Second Inaugural Address     Monday, March 4, 1805   \n",
       "\n",
       "                                                text  \n",
       "0  fellow citizens of the senate and of the house...  \n",
       "1  fellow citizens   i am again called upon by th...  \n",
       "2  when it was first perceived  in early times  t...  \n",
       "3  friends and fellow citizens   called upon to u...  \n",
       "4  proceeding  fellow citizens  to that qualifica...  "
      ],
      "text/html": "<div>\n<style scoped>\n    .dataframe tbody tr th:only-of-type {\n        vertical-align: middle;\n    }\n\n    .dataframe tbody tr th {\n        vertical-align: top;\n    }\n\n    .dataframe thead th {\n        text-align: right;\n    }\n</style>\n<table border=\"1\" class=\"dataframe\">\n  <thead>\n    <tr style=\"text-align: right;\">\n      <th></th>\n      <th>Name</th>\n      <th>Inaugural Address</th>\n      <th>Date</th>\n      <th>text</th>\n    </tr>\n  </thead>\n  <tbody>\n    <tr>\n      <th>0</th>\n      <td>George Washington</td>\n      <td>First Inaugural Address</td>\n      <td>Thursday, April 30, 1789</td>\n      <td>fellow citizens of the senate and of the house...</td>\n    </tr>\n    <tr>\n      <th>1</th>\n      <td>George Washington</td>\n      <td>Second Inaugural Address</td>\n      <td>Monday, March 4, 1793</td>\n      <td>fellow citizens   i am again called upon by th...</td>\n    </tr>\n    <tr>\n      <th>2</th>\n      <td>John Adams</td>\n      <td>Inaugural Address</td>\n      <td>Saturday, March 4, 1797</td>\n      <td>when it was first perceived  in early times  t...</td>\n    </tr>\n    <tr>\n      <th>3</th>\n      <td>Thomas Jefferson</td>\n      <td>First Inaugural Address</td>\n      <td>Wednesday, March 4, 1801</td>\n      <td>friends and fellow citizens   called upon to u...</td>\n    </tr>\n    <tr>\n      <th>4</th>\n      <td>Thomas Jefferson</td>\n      <td>Second Inaugural Address</td>\n      <td>Monday, March 4, 1805</td>\n      <td>proceeding  fellow citizens  to that qualifica...</td>\n    </tr>\n  </tbody>\n</table>\n</div>"
     },
     "metadata": {},
     "execution_count": 4
    }
   ],
   "source": [
    "# standardize by lower all string\n",
    "speech_df['text'] = speech_df['text'].str.lower()\n",
    "speech_df.head()"
   ]
  },
  {
   "cell_type": "code",
   "execution_count": 5,
   "metadata": {},
   "outputs": [
    {
     "output_type": "execute_result",
     "data": {
      "text/plain": [
       "0     8616\n",
       "1      787\n",
       "2    13871\n",
       "3    10144\n",
       "4    12902\n",
       "Name: char_count, dtype: int64"
      ]
     },
     "metadata": {},
     "execution_count": 5
    }
   ],
   "source": [
    "# create character count column\n",
    "speech_df['char_count'] = speech_df['text'].str.len()\n",
    "speech_df['char_count'].head()"
   ]
  },
  {
   "cell_type": "code",
   "execution_count": 7,
   "metadata": {},
   "outputs": [
    {
     "output_type": "execute_result",
     "data": {
      "text/plain": [
       "0    1432\n",
       "1     135\n",
       "2    2323\n",
       "3    1736\n",
       "4    2169\n",
       "Name: word_count, dtype: int64"
      ]
     },
     "metadata": {},
     "execution_count": 7
    }
   ],
   "source": [
    "# create word count column\n",
    "speech_df['word_count'] = speech_df['text'].str.split().str.len()\n",
    "speech_df['word_count'].head()"
   ]
  },
  {
   "cell_type": "code",
   "execution_count": 8,
   "metadata": {},
   "outputs": [
    {
     "output_type": "execute_result",
     "data": {
      "text/plain": [
       "0    6.016760\n",
       "1    5.829630\n",
       "2    5.971158\n",
       "3    5.843318\n",
       "4    5.948363\n",
       "Name: avg_word_len, dtype: float64"
      ]
     },
     "metadata": {},
     "execution_count": 8
    }
   ],
   "source": [
    "# create average word length (char)\n",
    "speech_df['avg_word_len'] = speech_df['char_count'] / speech_df['word_count']\n",
    "speech_df['avg_word_len'].head()"
   ]
  },
  {
   "source": [
    "## Word Count"
   ],
   "cell_type": "markdown",
   "metadata": {}
  },
  {
   "cell_type": "code",
   "execution_count": 18,
   "metadata": {},
   "outputs": [],
   "source": [
    "# import library\n",
    "from sklearn.feature_extraction.text import CountVectorizer\n",
    "\n",
    "cv = CountVectorizer(min_df=0.2, max_df=0.8)\n",
    "\n",
    "# fit and transform data\n",
    "text_transform = cv.fit_transform(speech_df['text'])"
   ]
  },
  {
   "cell_type": "code",
   "execution_count": 19,
   "metadata": {},
   "outputs": [
    {
     "output_type": "execute_result",
     "data": {
      "text/plain": [
       "   Counts_abiding  Counts_ability  Counts_able  Counts_about  Counts_above  \\\n",
       "0               0               0            0             0             0   \n",
       "1               0               0            0             1             0   \n",
       "2               0               0            0             0             0   \n",
       "3               0               0            0             1             1   \n",
       "4               0               0            1             0             0   \n",
       "\n",
       "   Counts_abroad  Counts_accept  Counts_accomplished  Counts_achieve  \\\n",
       "0              0              0                    1               0   \n",
       "1              0              0                    0               0   \n",
       "2              1              0                    0               0   \n",
       "3              1              0                    0               0   \n",
       "4              0              0                    0               0   \n",
       "\n",
       "   Counts_across  ...  Counts_women  Counts_words  Counts_work  Counts_wrong  \\\n",
       "0              0  ...             0             0            0             0   \n",
       "1              0  ...             0             0            0             0   \n",
       "2              0  ...             0             0            0             0   \n",
       "3              0  ...             0             0            1             2   \n",
       "4              0  ...             0             0            0             0   \n",
       "\n",
       "   Counts_year  Counts_years  Counts_yet  Counts_you  Counts_young  \\\n",
       "0            0             1           0           5             0   \n",
       "1            0             0           0           0             0   \n",
       "2            2             3           0           0             0   \n",
       "3            0             0           2           7             0   \n",
       "4            2             2           2           4             0   \n",
       "\n",
       "   Counts_your  \n",
       "0            9  \n",
       "1            1  \n",
       "2            1  \n",
       "3            7  \n",
       "4            4  \n",
       "\n",
       "[5 rows x 818 columns]"
      ],
      "text/html": "<div>\n<style scoped>\n    .dataframe tbody tr th:only-of-type {\n        vertical-align: middle;\n    }\n\n    .dataframe tbody tr th {\n        vertical-align: top;\n    }\n\n    .dataframe thead th {\n        text-align: right;\n    }\n</style>\n<table border=\"1\" class=\"dataframe\">\n  <thead>\n    <tr style=\"text-align: right;\">\n      <th></th>\n      <th>Counts_abiding</th>\n      <th>Counts_ability</th>\n      <th>Counts_able</th>\n      <th>Counts_about</th>\n      <th>Counts_above</th>\n      <th>Counts_abroad</th>\n      <th>Counts_accept</th>\n      <th>Counts_accomplished</th>\n      <th>Counts_achieve</th>\n      <th>Counts_across</th>\n      <th>...</th>\n      <th>Counts_women</th>\n      <th>Counts_words</th>\n      <th>Counts_work</th>\n      <th>Counts_wrong</th>\n      <th>Counts_year</th>\n      <th>Counts_years</th>\n      <th>Counts_yet</th>\n      <th>Counts_you</th>\n      <th>Counts_young</th>\n      <th>Counts_your</th>\n    </tr>\n  </thead>\n  <tbody>\n    <tr>\n      <th>0</th>\n      <td>0</td>\n      <td>0</td>\n      <td>0</td>\n      <td>0</td>\n      <td>0</td>\n      <td>0</td>\n      <td>0</td>\n      <td>1</td>\n      <td>0</td>\n      <td>0</td>\n      <td>...</td>\n      <td>0</td>\n      <td>0</td>\n      <td>0</td>\n      <td>0</td>\n      <td>0</td>\n      <td>1</td>\n      <td>0</td>\n      <td>5</td>\n      <td>0</td>\n      <td>9</td>\n    </tr>\n    <tr>\n      <th>1</th>\n      <td>0</td>\n      <td>0</td>\n      <td>0</td>\n      <td>1</td>\n      <td>0</td>\n      <td>0</td>\n      <td>0</td>\n      <td>0</td>\n      <td>0</td>\n      <td>0</td>\n      <td>...</td>\n      <td>0</td>\n      <td>0</td>\n      <td>0</td>\n      <td>0</td>\n      <td>0</td>\n      <td>0</td>\n      <td>0</td>\n      <td>0</td>\n      <td>0</td>\n      <td>1</td>\n    </tr>\n    <tr>\n      <th>2</th>\n      <td>0</td>\n      <td>0</td>\n      <td>0</td>\n      <td>0</td>\n      <td>0</td>\n      <td>1</td>\n      <td>0</td>\n      <td>0</td>\n      <td>0</td>\n      <td>0</td>\n      <td>...</td>\n      <td>0</td>\n      <td>0</td>\n      <td>0</td>\n      <td>0</td>\n      <td>2</td>\n      <td>3</td>\n      <td>0</td>\n      <td>0</td>\n      <td>0</td>\n      <td>1</td>\n    </tr>\n    <tr>\n      <th>3</th>\n      <td>0</td>\n      <td>0</td>\n      <td>0</td>\n      <td>1</td>\n      <td>1</td>\n      <td>1</td>\n      <td>0</td>\n      <td>0</td>\n      <td>0</td>\n      <td>0</td>\n      <td>...</td>\n      <td>0</td>\n      <td>0</td>\n      <td>1</td>\n      <td>2</td>\n      <td>0</td>\n      <td>0</td>\n      <td>2</td>\n      <td>7</td>\n      <td>0</td>\n      <td>7</td>\n    </tr>\n    <tr>\n      <th>4</th>\n      <td>0</td>\n      <td>0</td>\n      <td>1</td>\n      <td>0</td>\n      <td>0</td>\n      <td>0</td>\n      <td>0</td>\n      <td>0</td>\n      <td>0</td>\n      <td>0</td>\n      <td>...</td>\n      <td>0</td>\n      <td>0</td>\n      <td>0</td>\n      <td>0</td>\n      <td>2</td>\n      <td>2</td>\n      <td>2</td>\n      <td>4</td>\n      <td>0</td>\n      <td>4</td>\n    </tr>\n  </tbody>\n</table>\n<p>5 rows × 818 columns</p>\n</div>"
     },
     "metadata": {},
     "execution_count": 19
    }
   ],
   "source": [
    "# cv dataframe\n",
    "cv_df = pd.DataFrame(text_transform.toarray(), columns=cv.get_feature_names()).add_prefix('Counts_')\n",
    "\n",
    "cv_df.head()"
   ]
  },
  {
   "cell_type": "code",
   "execution_count": 20,
   "metadata": {},
   "outputs": [
    {
     "output_type": "execute_result",
     "data": {
      "text/plain": [
       "(58, 825)"
      ]
     },
     "metadata": {},
     "execution_count": 20
    }
   ],
   "source": [
    "# combine df\n",
    "combine_df = pd.concat([speech_df, cv_df], axis=1, sort=False)\n",
    "combine_df.shape"
   ]
  },
  {
   "cell_type": "code",
   "execution_count": 22,
   "metadata": {},
   "outputs": [
    {
     "output_type": "execute_result",
     "data": {
      "text/plain": [
       "                Name         Inaugural Address                      Date  \\\n",
       "0  George Washington   First Inaugural Address  Thursday, April 30, 1789   \n",
       "1  George Washington  Second Inaugural Address     Monday, March 4, 1793   \n",
       "2         John Adams         Inaugural Address   Saturday, March 4, 1797   \n",
       "3   Thomas Jefferson   First Inaugural Address  Wednesday, March 4, 1801   \n",
       "4   Thomas Jefferson  Second Inaugural Address     Monday, March 4, 1805   \n",
       "\n",
       "                                                text  char_count  word_count  \\\n",
       "0  fellow citizens of the senate and of the house...        8616        1432   \n",
       "1  fellow citizens   i am again called upon by th...         787         135   \n",
       "2  when it was first perceived  in early times  t...       13871        2323   \n",
       "3  friends and fellow citizens   called upon to u...       10144        1736   \n",
       "4  proceeding  fellow citizens  to that qualifica...       12902        2169   \n",
       "\n",
       "   avg_word_len  Counts_abiding  Counts_ability  Counts_able  ...  \\\n",
       "0      6.016760               0               0            0  ...   \n",
       "1      5.829630               0               0            0  ...   \n",
       "2      5.971158               0               0            0  ...   \n",
       "3      5.843318               0               0            0  ...   \n",
       "4      5.948363               0               0            1  ...   \n",
       "\n",
       "   Counts_women  Counts_words  Counts_work  Counts_wrong  Counts_year  \\\n",
       "0             0             0            0             0            0   \n",
       "1             0             0            0             0            0   \n",
       "2             0             0            0             0            2   \n",
       "3             0             0            1             2            0   \n",
       "4             0             0            0             0            2   \n",
       "\n",
       "   Counts_years  Counts_yet  Counts_you  Counts_young  Counts_your  \n",
       "0             1           0           5             0            9  \n",
       "1             0           0           0             0            1  \n",
       "2             3           0           0             0            1  \n",
       "3             0           2           7             0            7  \n",
       "4             2           2           4             0            4  \n",
       "\n",
       "[5 rows x 825 columns]"
      ],
      "text/html": "<div>\n<style scoped>\n    .dataframe tbody tr th:only-of-type {\n        vertical-align: middle;\n    }\n\n    .dataframe tbody tr th {\n        vertical-align: top;\n    }\n\n    .dataframe thead th {\n        text-align: right;\n    }\n</style>\n<table border=\"1\" class=\"dataframe\">\n  <thead>\n    <tr style=\"text-align: right;\">\n      <th></th>\n      <th>Name</th>\n      <th>Inaugural Address</th>\n      <th>Date</th>\n      <th>text</th>\n      <th>char_count</th>\n      <th>word_count</th>\n      <th>avg_word_len</th>\n      <th>Counts_abiding</th>\n      <th>Counts_ability</th>\n      <th>Counts_able</th>\n      <th>...</th>\n      <th>Counts_women</th>\n      <th>Counts_words</th>\n      <th>Counts_work</th>\n      <th>Counts_wrong</th>\n      <th>Counts_year</th>\n      <th>Counts_years</th>\n      <th>Counts_yet</th>\n      <th>Counts_you</th>\n      <th>Counts_young</th>\n      <th>Counts_your</th>\n    </tr>\n  </thead>\n  <tbody>\n    <tr>\n      <th>0</th>\n      <td>George Washington</td>\n      <td>First Inaugural Address</td>\n      <td>Thursday, April 30, 1789</td>\n      <td>fellow citizens of the senate and of the house...</td>\n      <td>8616</td>\n      <td>1432</td>\n      <td>6.016760</td>\n      <td>0</td>\n      <td>0</td>\n      <td>0</td>\n      <td>...</td>\n      <td>0</td>\n      <td>0</td>\n      <td>0</td>\n      <td>0</td>\n      <td>0</td>\n      <td>1</td>\n      <td>0</td>\n      <td>5</td>\n      <td>0</td>\n      <td>9</td>\n    </tr>\n    <tr>\n      <th>1</th>\n      <td>George Washington</td>\n      <td>Second Inaugural Address</td>\n      <td>Monday, March 4, 1793</td>\n      <td>fellow citizens   i am again called upon by th...</td>\n      <td>787</td>\n      <td>135</td>\n      <td>5.829630</td>\n      <td>0</td>\n      <td>0</td>\n      <td>0</td>\n      <td>...</td>\n      <td>0</td>\n      <td>0</td>\n      <td>0</td>\n      <td>0</td>\n      <td>0</td>\n      <td>0</td>\n      <td>0</td>\n      <td>0</td>\n      <td>0</td>\n      <td>1</td>\n    </tr>\n    <tr>\n      <th>2</th>\n      <td>John Adams</td>\n      <td>Inaugural Address</td>\n      <td>Saturday, March 4, 1797</td>\n      <td>when it was first perceived  in early times  t...</td>\n      <td>13871</td>\n      <td>2323</td>\n      <td>5.971158</td>\n      <td>0</td>\n      <td>0</td>\n      <td>0</td>\n      <td>...</td>\n      <td>0</td>\n      <td>0</td>\n      <td>0</td>\n      <td>0</td>\n      <td>2</td>\n      <td>3</td>\n      <td>0</td>\n      <td>0</td>\n      <td>0</td>\n      <td>1</td>\n    </tr>\n    <tr>\n      <th>3</th>\n      <td>Thomas Jefferson</td>\n      <td>First Inaugural Address</td>\n      <td>Wednesday, March 4, 1801</td>\n      <td>friends and fellow citizens   called upon to u...</td>\n      <td>10144</td>\n      <td>1736</td>\n      <td>5.843318</td>\n      <td>0</td>\n      <td>0</td>\n      <td>0</td>\n      <td>...</td>\n      <td>0</td>\n      <td>0</td>\n      <td>1</td>\n      <td>2</td>\n      <td>0</td>\n      <td>0</td>\n      <td>2</td>\n      <td>7</td>\n      <td>0</td>\n      <td>7</td>\n    </tr>\n    <tr>\n      <th>4</th>\n      <td>Thomas Jefferson</td>\n      <td>Second Inaugural Address</td>\n      <td>Monday, March 4, 1805</td>\n      <td>proceeding  fellow citizens  to that qualifica...</td>\n      <td>12902</td>\n      <td>2169</td>\n      <td>5.948363</td>\n      <td>0</td>\n      <td>0</td>\n      <td>1</td>\n      <td>...</td>\n      <td>0</td>\n      <td>0</td>\n      <td>0</td>\n      <td>0</td>\n      <td>2</td>\n      <td>2</td>\n      <td>2</td>\n      <td>4</td>\n      <td>0</td>\n      <td>4</td>\n    </tr>\n  </tbody>\n</table>\n<p>5 rows × 825 columns</p>\n</div>"
     },
     "metadata": {},
     "execution_count": 22
    }
   ],
   "source": [
    "combine_df.head()"
   ]
  },
  {
   "source": [
    "## Term frequency-inverse document frequency (Tf-idf)"
   ],
   "cell_type": "markdown",
   "metadata": {}
  },
  {
   "cell_type": "code",
   "execution_count": 30,
   "metadata": {},
   "outputs": [],
   "source": [
    "from sklearn.feature_extraction.text import TfidfVectorizer\n",
    "\n",
    "tv = TfidfVectorizer(max_features=100, stop_words='english')\n",
    "\n",
    "tv_transformed = tv.fit_transform(speech_df['text'])"
   ]
  },
  {
   "cell_type": "code",
   "execution_count": 31,
   "metadata": {},
   "outputs": [
    {
     "output_type": "execute_result",
     "data": {
      "text/plain": [
       "   TFIDF_action  TFIDF_administration  TFIDF_america  TFIDF_american  \\\n",
       "0      0.000000              0.133415       0.000000        0.105388   \n",
       "1      0.000000              0.261016       0.266097        0.000000   \n",
       "2      0.000000              0.092436       0.157058        0.073018   \n",
       "3      0.000000              0.092693       0.000000        0.000000   \n",
       "4      0.041334              0.039761       0.000000        0.031408   \n",
       "\n",
       "   TFIDF_americans  TFIDF_believe  TFIDF_best  TFIDF_better  TFIDF_change  \\\n",
       "0              0.0       0.000000    0.000000      0.000000      0.000000   \n",
       "1              0.0       0.000000    0.000000      0.000000      0.000000   \n",
       "2              0.0       0.000000    0.026112      0.060460      0.000000   \n",
       "3              0.0       0.090942    0.117831      0.045471      0.053335   \n",
       "4              0.0       0.000000    0.067393      0.039011      0.091514   \n",
       "\n",
       "   TFIDF_citizens  ...  TFIDF_things  TFIDF_time  TFIDF_today  TFIDF_union  \\\n",
       "0        0.229644  ...      0.000000    0.045929          0.0     0.136012   \n",
       "1        0.179712  ...      0.000000    0.000000          0.0     0.000000   \n",
       "2        0.106072  ...      0.032030    0.021214          0.0     0.062823   \n",
       "3        0.223369  ...      0.048179    0.000000          0.0     0.094497   \n",
       "4        0.273760  ...      0.082667    0.164256          0.0     0.121605   \n",
       "\n",
       "   TFIDF_united  TFIDF_war  TFIDF_way  TFIDF_work  TFIDF_world  TFIDF_years  \n",
       "0      0.203593   0.000000   0.060755    0.000000     0.045929     0.052694  \n",
       "1      0.199157   0.000000   0.000000    0.000000     0.000000     0.000000  \n",
       "2      0.070529   0.024339   0.000000    0.000000     0.063643     0.073018  \n",
       "3      0.000000   0.036610   0.000000    0.039277     0.095729     0.000000  \n",
       "4      0.030338   0.094225   0.000000    0.000000     0.054752     0.062817  \n",
       "\n",
       "[5 rows x 100 columns]"
      ],
      "text/html": "<div>\n<style scoped>\n    .dataframe tbody tr th:only-of-type {\n        vertical-align: middle;\n    }\n\n    .dataframe tbody tr th {\n        vertical-align: top;\n    }\n\n    .dataframe thead th {\n        text-align: right;\n    }\n</style>\n<table border=\"1\" class=\"dataframe\">\n  <thead>\n    <tr style=\"text-align: right;\">\n      <th></th>\n      <th>TFIDF_action</th>\n      <th>TFIDF_administration</th>\n      <th>TFIDF_america</th>\n      <th>TFIDF_american</th>\n      <th>TFIDF_americans</th>\n      <th>TFIDF_believe</th>\n      <th>TFIDF_best</th>\n      <th>TFIDF_better</th>\n      <th>TFIDF_change</th>\n      <th>TFIDF_citizens</th>\n      <th>...</th>\n      <th>TFIDF_things</th>\n      <th>TFIDF_time</th>\n      <th>TFIDF_today</th>\n      <th>TFIDF_union</th>\n      <th>TFIDF_united</th>\n      <th>TFIDF_war</th>\n      <th>TFIDF_way</th>\n      <th>TFIDF_work</th>\n      <th>TFIDF_world</th>\n      <th>TFIDF_years</th>\n    </tr>\n  </thead>\n  <tbody>\n    <tr>\n      <th>0</th>\n      <td>0.000000</td>\n      <td>0.133415</td>\n      <td>0.000000</td>\n      <td>0.105388</td>\n      <td>0.0</td>\n      <td>0.000000</td>\n      <td>0.000000</td>\n      <td>0.000000</td>\n      <td>0.000000</td>\n      <td>0.229644</td>\n      <td>...</td>\n      <td>0.000000</td>\n      <td>0.045929</td>\n      <td>0.0</td>\n      <td>0.136012</td>\n      <td>0.203593</td>\n      <td>0.000000</td>\n      <td>0.060755</td>\n      <td>0.000000</td>\n      <td>0.045929</td>\n      <td>0.052694</td>\n    </tr>\n    <tr>\n      <th>1</th>\n      <td>0.000000</td>\n      <td>0.261016</td>\n      <td>0.266097</td>\n      <td>0.000000</td>\n      <td>0.0</td>\n      <td>0.000000</td>\n      <td>0.000000</td>\n      <td>0.000000</td>\n      <td>0.000000</td>\n      <td>0.179712</td>\n      <td>...</td>\n      <td>0.000000</td>\n      <td>0.000000</td>\n      <td>0.0</td>\n      <td>0.000000</td>\n      <td>0.199157</td>\n      <td>0.000000</td>\n      <td>0.000000</td>\n      <td>0.000000</td>\n      <td>0.000000</td>\n      <td>0.000000</td>\n    </tr>\n    <tr>\n      <th>2</th>\n      <td>0.000000</td>\n      <td>0.092436</td>\n      <td>0.157058</td>\n      <td>0.073018</td>\n      <td>0.0</td>\n      <td>0.000000</td>\n      <td>0.026112</td>\n      <td>0.060460</td>\n      <td>0.000000</td>\n      <td>0.106072</td>\n      <td>...</td>\n      <td>0.032030</td>\n      <td>0.021214</td>\n      <td>0.0</td>\n      <td>0.062823</td>\n      <td>0.070529</td>\n      <td>0.024339</td>\n      <td>0.000000</td>\n      <td>0.000000</td>\n      <td>0.063643</td>\n      <td>0.073018</td>\n    </tr>\n    <tr>\n      <th>3</th>\n      <td>0.000000</td>\n      <td>0.092693</td>\n      <td>0.000000</td>\n      <td>0.000000</td>\n      <td>0.0</td>\n      <td>0.090942</td>\n      <td>0.117831</td>\n      <td>0.045471</td>\n      <td>0.053335</td>\n      <td>0.223369</td>\n      <td>...</td>\n      <td>0.048179</td>\n      <td>0.000000</td>\n      <td>0.0</td>\n      <td>0.094497</td>\n      <td>0.000000</td>\n      <td>0.036610</td>\n      <td>0.000000</td>\n      <td>0.039277</td>\n      <td>0.095729</td>\n      <td>0.000000</td>\n    </tr>\n    <tr>\n      <th>4</th>\n      <td>0.041334</td>\n      <td>0.039761</td>\n      <td>0.000000</td>\n      <td>0.031408</td>\n      <td>0.0</td>\n      <td>0.000000</td>\n      <td>0.067393</td>\n      <td>0.039011</td>\n      <td>0.091514</td>\n      <td>0.273760</td>\n      <td>...</td>\n      <td>0.082667</td>\n      <td>0.164256</td>\n      <td>0.0</td>\n      <td>0.121605</td>\n      <td>0.030338</td>\n      <td>0.094225</td>\n      <td>0.000000</td>\n      <td>0.000000</td>\n      <td>0.054752</td>\n      <td>0.062817</td>\n    </tr>\n  </tbody>\n</table>\n<p>5 rows × 100 columns</p>\n</div>"
     },
     "metadata": {},
     "execution_count": 31
    }
   ],
   "source": [
    "tv_df = pd.DataFrame(tv_transformed.toarray(), columns=tv.get_feature_names()).add_prefix('TFIDF_')\n",
    "\n",
    "tv_df.head()"
   ]
  },
  {
   "cell_type": "code",
   "execution_count": 34,
   "metadata": {},
   "outputs": [
    {
     "output_type": "execute_result",
     "data": {
      "text/plain": [
       "TFIDF_government    0.367430\n",
       "TFIDF_public        0.333237\n",
       "TFIDF_present       0.315182\n",
       "TFIDF_duty          0.238637\n",
       "TFIDF_citizens      0.229644\n",
       "TFIDF_country       0.229644\n",
       "TFIDF_united        0.203593\n",
       "TFIDF_far           0.178978\n",
       "TFIDF_people        0.174590\n",
       "TFIDF_good          0.147528\n",
       "Name: 0, dtype: float64"
      ]
     },
     "metadata": {},
     "execution_count": 34
    }
   ],
   "source": [
    "# top 10 words used\n",
    "tv_df.iloc[0].sort_values(ascending=False).head(10)"
   ]
  },
  {
   "source": [
    "## Bag of words and N-grams"
   ],
   "cell_type": "markdown",
   "metadata": {}
  },
  {
   "cell_type": "code",
   "execution_count": 35,
   "metadata": {},
   "outputs": [],
   "source": [
    "bigrams_model = CountVectorizer(max_features=100, stop_words='english', ngram_range= (2,2))\n",
    "\n",
    "bigrams = bigrams_model.fit_transform(speech_df['text'])"
   ]
  },
  {
   "cell_type": "code",
   "execution_count": 38,
   "metadata": {},
   "outputs": [
    {
     "output_type": "execute_result",
     "data": {
      "text/plain": [
       "Counts_united states          157\n",
       "Counts_fellow citizens        111\n",
       "Counts_american people         41\n",
       "Counts_federal government      35\n",
       "Counts_self government         30\n",
       "Counts_men women               28\n",
       "Counts_years ago               26\n",
       "Counts_general government      24\n",
       "Counts_constitution united     20\n",
       "Counts_government people       19\n",
       "dtype: int64"
      ]
     },
     "metadata": {},
     "execution_count": 38
    }
   ],
   "source": [
    "bigrams_df = pd.DataFrame(bigrams.toarray(), columns=bigrams_model.get_feature_names()).add_prefix('Counts_')\n",
    "\n",
    "# most used bigrams\n",
    "bigrams_df.sum().sort_values(ascending=False).head(10)"
   ]
  },
  {
   "cell_type": "code",
   "execution_count": 39,
   "metadata": {},
   "outputs": [],
   "source": [
    "trigrams_model = CountVectorizer(max_features=100, stop_words='english', ngram_range=(3,3))\n",
    "\n",
    "trigrams = trigrams_model.fit_transform(speech_df['text'])"
   ]
  },
  {
   "cell_type": "code",
   "execution_count": 40,
   "metadata": {},
   "outputs": [
    {
     "output_type": "execute_result",
     "data": {
      "text/plain": [
       "Counts_constitution united states     20\n",
       "Counts_people united states           13\n",
       "Counts_preserve protect defend        10\n",
       "Counts_mr chief justice               10\n",
       "Counts_president united states         8\n",
       "Counts_defend constitution united      7\n",
       "Counts_civil religious liberty         6\n",
       "Counts_protect defend constitution     6\n",
       "Counts_thank god bless                 6\n",
       "Counts_united states america           6\n",
       "dtype: int64"
      ]
     },
     "metadata": {},
     "execution_count": 40
    }
   ],
   "source": [
    "trigrams_df = pd.DataFrame(trigrams.toarray(), columns=trigrams_model.get_feature_names()).add_prefix('Counts_')\n",
    "\n",
    "# most used trigrams\n",
    "trigrams_df.sum().sort_values(ascending=False).head(10)"
   ]
  },
  {
   "cell_type": "code",
   "execution_count": null,
   "metadata": {},
   "outputs": [],
   "source": []
  }
 ]
}