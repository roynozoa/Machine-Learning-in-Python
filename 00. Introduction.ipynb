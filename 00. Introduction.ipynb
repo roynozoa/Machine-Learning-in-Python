{
 "metadata": {
  "language_info": {
   "codemirror_mode": {
    "name": "ipython",
    "version": 3
   },
   "file_extension": ".py",
   "mimetype": "text/x-python",
   "name": "python",
   "nbconvert_exporter": "python",
   "pygments_lexer": "ipython3",
   "version": "3.8.5-final"
  },
  "orig_nbformat": 2,
  "kernelspec": {
   "name": "Python 3.8.5 32-bit",
   "display_name": "Python 3.8.5 32-bit",
   "metadata": {
    "interpreter": {
     "hash": "4b206d4e30157135457942edf5f287cc66beec6c5bd72f81d81f03c16d57a14b"
    }
   }
  }
 },
 "nbformat": 4,
 "nbformat_minor": 2,
 "cells": [
  {
   "source": [
    "# Introduction to Machine Learning in python\n",
    "This repository is created for practical learning Machine Learning in python\n",
    "\n",
    "All dataset in this repository i got from : Kaggle, DataCamp Course, UCI, and others\n",
    "\n",
    "Muhammad Adisatriyo Pratama - 2020"
   ],
   "cell_type": "markdown",
   "metadata": {}
  },
  {
   "source": [
    "# Machine Learning\n",
    "- Computer ability to learn and make decisions from given data.\n",
    "- Without being explicitly programmed.\n",
    "\n",
    "## Type of Machine Learning\n",
    "- Supervised : Using labeled data\n",
    "- Unsupervised : Using unlabeled data\n",
    "- Reinforcement => Complex ML, How to optimize behavior"
   ],
   "cell_type": "markdown",
   "metadata": {}
  },
  {
   "cell_type": "code",
   "execution_count": 1,
   "metadata": {},
   "outputs": [],
   "source": [
    "# import library\n",
    "import pandas as pd\n",
    "import numpy as np\n",
    "import matplotlib.pyplot as plt\n"
   ]
  },
  {
   "cell_type": "code",
   "execution_count": null,
   "metadata": {},
   "outputs": [],
   "source": []
  }
 ]
}